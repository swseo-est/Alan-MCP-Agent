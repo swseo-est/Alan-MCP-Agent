{
 "cells": [
  {
   "cell_type": "code",
   "execution_count": 1,
   "id": "b596ccd8-54af-48cf-aa28-df5099dcf6c8",
   "metadata": {},
   "outputs": [],
   "source": [
    "\n",
    "import nest_asyncio\n",
    "\n",
    "nest_asyncio.apply()"
   ]
  },
  {
   "cell_type": "code",
   "execution_count": null,
   "id": "87877c38-6635-4593-99f7-f656e293c286",
   "metadata": {},
   "outputs": [
    {
     "name": "stdin",
     "output_type": "stream",
     "text": [
      "\n",
      "[USER]  안녕\n"
     ]
    },
    {
     "name": "stdout",
     "output_type": "stream",
     "text": [
      "==================================\u001B[1m Ai Message \u001B[0m==================================\n",
      "\n",
      "안녕하세요! 무엇을 도와드릴까요? 😊\n"
     ]
    },
    {
     "name": "stdin",
     "output_type": "stream",
     "text": [
      "\n",
      "[USER]  사용가능한 도구를 조회해줘\n"
     ]
    },
    {
     "name": "stdout",
     "output_type": "stream",
     "text": [
      "==================================\u001B[1m Ai Message \u001B[0m==================================\n",
      "\n",
      "제가 현재 사용할 수 있는 주요 도구들은 다음과 같습니다:\n",
      "\n",
      "1. 웹 브라우저 자동화  \n",
      "- 웹사이트 탐색, 클릭, 입력, 파일 다운로드/업로드, 스크린샷, PDF 저장 등 다양한 웹 기반 자동화 작업\n",
      "\n",
      "2. Notion 데이터베이스 및 페이지 관리  \n",
      "- Notion에서 데이터베이스/페이지/블록/댓글 조회·생성·수정·검색 등 다양한 작업\n",
      "- 예시: 노션 페이지 생성, 댓글 달기, 블록 내용 변경, 데이터베이스 만들기 등\n",
      "\n",
      "3. 멀티툴 병렬 실행  \n",
      "- 위의 여러 도구 작업을 동시에 실행 가능\n",
      "\n",
      "특정 작업이나 활용법이 궁금하신가요? 예시나 필요한 사용 목적을 말씀해 주시면 더 자세히 설명드릴 수 있습니다!\n"
     ]
    }
   ],
   "source": [
    "\"\"\"MCP client.\"\"\"\n",
    "from langchain_core.messages import HumanMessage\n",
    "from alan_mcp_agent.mcp.host import create_mcp_agent\n",
    "\n",
    "from dotenv import load_dotenv\n",
    "\n",
    "\n",
    "load_dotenv()\n",
    "\n",
    "\n",
    "SERVER_CONFIGS = {\n",
    "    \"playwright\": {\n",
    "        \"url\": \"http://localhost:8931/mcp\",\n",
    "        \"transport\": \"streamable_http\",\n",
    "    },\n",
    "    \"notion\":{\n",
    "        \"url\": \"https://server.smithery.ai/@smithery/notion/mcp?profile=scary-turtle-Ljf5sY&api_key=a457b5a4-cd03-4a13-b2ac-cf99c04f6fc4\",\n",
    "        \"transport\": \"streamable_http\",\n",
    "    },\n",
    "}\n",
    "\n",
    "config = {\n",
    "\"configurable\": {\n",
    "    \"thread_id\": \"1\"  \n",
    "        }\n",
    "    }\n",
    "\n",
    "\n",
    "agent, host = await create_mcp_agent(SERVER_CONFIGS, model=\"openai:gpt-4.1\")\n",
    "\n",
    "while True:\n",
    "    input_text = input(\"\\n[USER] \")\n",
    "    if input_text.strip().lower() in [\"종료\", \"exit\"]:\n",
    "        print(\"대화를 종료합니다.\")\n",
    "        break\n",
    "\n",
    "    result = await agent.ainvoke({\"messages\": HumanMessage(content=input_text)}, config)\n",
    "    output = result['messages'][-1].pretty_print()    "
   ]
  },
  {
   "cell_type": "code",
   "execution_count": null,
   "id": "e09aeec2-914e-42ec-a393-6fb57067fd3a",
   "metadata": {},
   "outputs": [],
   "source": []
  }
 ],
 "metadata": {
  "kernelspec": {
   "display_name": "Python 3 (ipykernel)",
   "language": "python",
   "name": "python3"
  },
  "language_info": {
   "codemirror_mode": {
    "name": "ipython",
    "version": 3
   },
   "file_extension": ".py",
   "mimetype": "text/x-python",
   "name": "python",
   "nbconvert_exporter": "python",
   "pygments_lexer": "ipython3",
   "version": "3.13.2"
  }
 },
 "nbformat": 4,
 "nbformat_minor": 5
}
