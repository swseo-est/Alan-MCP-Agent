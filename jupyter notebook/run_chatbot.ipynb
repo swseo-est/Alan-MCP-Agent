{
 "cells": [
  {
   "cell_type": "code",
   "execution_count": 1,
   "id": "b596ccd8-54af-48cf-aa28-df5099dcf6c8",
   "metadata": {},
   "outputs": [],
   "source": [
    "import asyncio\n",
    "import nest_asyncio\n",
    "\n",
    "nest_asyncio.apply()"
   ]
  },
  {
   "cell_type": "code",
   "execution_count": null,
   "id": "87877c38-6635-4593-99f7-f656e293c286",
   "metadata": {},
   "outputs": [],
   "source": [
    "\"\"\"MCP client.\"\"\"\n",
    "from contextlib import asynccontextmanager, AsyncExitStack\n",
    "import asyncio\n",
    "\n",
    "from langchain_mcp_adapters.client import MultiServerMCPClient\n",
    "from langchain_mcp_adapters.tools import load_mcp_tools\n",
    "from langchain_core.messages import HumanMessage\n",
    "from langgraph.prebuilt import create_react_agent\n",
    "from dotenv import load_dotenv\n",
    "\n",
    "load_dotenv()\n",
    "\n",
    "\n",
    "SERVER_CONFIGS = {\n",
    "    \"playwright\": {\n",
    "        \"url\": \"http://localhost:8931/mcp\",\n",
    "        \"transport\": \"streamable_http\",\n",
    "    },\n",
    "    \"notion\":{\n",
    "        \"url\": \"https://server.smithery.ai/@smithery/notion/mcp?profile=scary-turtle-Ljf5sY&api_key=a457b5a4-cd03-4a13-b2ac-cf99c04f6fc4\",\n",
    "        \"transport\": \"streamable_http\",\n",
    "    },\n",
    "}\n",
    "\n",
    "mcp_client = MultiServerMCPClient(SERVER_CONFIGS)\n",
    "\n",
    "async with AsyncExitStack() as st:\n",
    "    server_names = SERVER_CONFIGS.keys()\n",
    "    sessions = [\n",
    "        await st.enter_async_context(mcp_client.session(server))\n",
    "        for server in server_names\n",
    "    ]\n",
    "    tools = sum(await asyncio.gather(*map(load_mcp_tools, sessions)), [])\n",
    "\n",
    "    agent = create_react_agent(\n",
    "        \"openai:gpt-4.1\",\n",
    "        tools,\n",
    "    )\n",
    "\n",
    "    while True:\n",
    "        input_text = input(\"\\n[USER] \")\n",
    "        if input_text.strip().lower() in [\"종료\", \"exit\"]:\n",
    "            print(\"대화를 종료합니다.\")\n",
    "            break\n",
    "\n",
    "        result = await agent.ainvoke({\"messages\": HumanMessage(content=input_text)})\n",
    "        output = result['messages'][-1].pretty_print()    "
   ]
  },
  {
   "cell_type": "code",
   "execution_count": null,
   "id": "e09aeec2-914e-42ec-a393-6fb57067fd3a",
   "metadata": {},
   "outputs": [],
   "source": []
  }
 ],
 "metadata": {
  "kernelspec": {
   "display_name": "Python 3 (ipykernel)",
   "language": "python",
   "name": "python3"
  },
  "language_info": {
   "codemirror_mode": {
    "name": "ipython",
    "version": 3
   },
   "file_extension": ".py",
   "mimetype": "text/x-python",
   "name": "python",
   "nbconvert_exporter": "python",
   "pygments_lexer": "ipython3",
   "version": "3.13.2"
  }
 },
 "nbformat": 4,
 "nbformat_minor": 5
}
