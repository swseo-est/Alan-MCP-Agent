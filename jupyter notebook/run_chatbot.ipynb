{
 "cells": [
  {
   "cell_type": "code",
   "execution_count": 1,
   "id": "b596ccd8-54af-48cf-aa28-df5099dcf6c8",
   "metadata": {},
   "outputs": [],
   "source": [
    "import asyncio\n",
    "import nest_asyncio\n",
    "\n",
    "nest_asyncio.apply()"
   ]
  },
  {
   "cell_type": "code",
   "execution_count": null,
   "id": "87877c38-6635-4593-99f7-f656e293c286",
   "metadata": {},
   "outputs": [
    {
     "name": "stdin",
     "output_type": "stream",
     "text": [
      "\n",
      "[USER]  안녕\n"
     ]
    },
    {
     "name": "stdout",
     "output_type": "stream",
     "text": [
      "==================================\u001b[1m Ai Message \u001b[0m==================================\n",
      "\n",
      "안녕하세요! 무엇을 도와드릴까요? 😊\n"
     ]
    },
    {
     "name": "stdin",
     "output_type": "stream",
     "text": [
      "\n",
      "[USER]  사용가능한 도구를 알려줘\n"
     ]
    },
    {
     "name": "stdout",
     "output_type": "stream",
     "text": [
      "==================================\u001b[1m Ai Message \u001b[0m==================================\n",
      "\n",
      "저는 다양한 작업을 자동화하거나 정보를 제공하기 위해 여러 도구를 사용할 수 있습니다. 현재 연결되어 있는 대표적인 도구들은 아래와 같습니다:\n",
      "\n",
      "1. **웹 브라우저 자동화 도구**  \n",
      "   - 웹사이트 탐색, 클릭, 입력, 검색, 스크린샷, PDF 저장, 탭 관리 등 웹 브라우저 작업을 자동으로 처리할 수 있습니다.\n",
      "\n",
      "2. **Notion 자동화 도구**  \n",
      "   - Notion 데이터베이스 및 페이지 검색, 조회, 생성, 편집, 댓글 관리 등 Notion 관련 작업을 자동화할 수 있습니다.\n",
      "\n",
      "3. **멀티 툴 동시 실행**  \n",
      "   - 여러 도구를 동시에 사용할 수 있습니다. 예를 들어 Notion 작업과 웹 브라우저 작업을 병렬로 처리할 수 있습니다.\n",
      "\n",
      "원하시는 작업이나 궁금한 도구가 있으시면 말씀해 주세요! 각 도구의 세부적인 기능이나 명령 예시도 안내해 드릴 수 있습니다. 😊\n"
     ]
    },
    {
     "name": "stdin",
     "output_type": "stream",
     "text": [
      "\n",
      "[USER]  네이버에 접속해서 검색창에 가나다라고 입력해\n"
     ]
    },
    {
     "name": "stdout",
     "output_type": "stream",
     "text": [
      "==================================\u001b[1m Ai Message \u001b[0m==================================\n",
      "\n",
      "네이버에 접속해서 검색창에 \"가나다\"라는 검색어를 입력했습니다.  \n",
      "이제 검색을 실행해야 할까요?\n"
     ]
    }
   ],
   "source": [
    "\"\"\"MCP client.\"\"\"\n",
    "from langchain_mcp_adapters.client import MultiServerMCPClient\n",
    "from langchain_mcp_adapters.tools import load_mcp_tools\n",
    "from langchain_core.messages import HumanMessage\n",
    "from alan_mcp_agent.host import create_mcp_agent, AlanMCPHost\n",
    "\n",
    "from dotenv import load_dotenv\n",
    "\n",
    "\n",
    "load_dotenv()\n",
    "\n",
    "\n",
    "SERVER_CONFIGS = {\n",
    "    \"playwright\": {\n",
    "        \"url\": \"http://localhost:8931/mcp\",\n",
    "        \"transport\": \"streamable_http\",\n",
    "    },\n",
    "    \"notion\":{\n",
    "        \"url\": \"https://server.smithery.ai/@smithery/notion/mcp?profile=scary-turtle-Ljf5sY&api_key=a457b5a4-cd03-4a13-b2ac-cf99c04f6fc4\",\n",
    "        \"transport\": \"streamable_http\",\n",
    "    },\n",
    "}\n",
    "\n",
    "config = {\n",
    "\"configurable\": {\n",
    "    \"thread_id\": \"1\"  \n",
    "        }\n",
    "    }\n",
    "\n",
    "\n",
    "graph, host = await create_mcp_agent(SERVER_CONFIGS, model=\"openai:gpt-4.1\")\n",
    "\n",
    "while True:\n",
    "    input_text = input(\"\\n[USER] \")\n",
    "    if input_text.strip().lower() in [\"종료\", \"exit\"]:\n",
    "        print(\"대화를 종료합니다.\")\n",
    "        break\n",
    "\n",
    "    result = await graph.ainvoke({\"messages\": HumanMessage(content=input_text)}, config)\n",
    "    output = result['messages'][-1].pretty_print()    "
   ]
  },
  {
   "cell_type": "code",
   "execution_count": null,
   "id": "e09aeec2-914e-42ec-a393-6fb57067fd3a",
   "metadata": {},
   "outputs": [],
   "source": []
  }
 ],
 "metadata": {
  "kernelspec": {
   "display_name": "Python 3 (ipykernel)",
   "language": "python",
   "name": "python3"
  },
  "language_info": {
   "codemirror_mode": {
    "name": "ipython",
    "version": 3
   },
   "file_extension": ".py",
   "mimetype": "text/x-python",
   "name": "python",
   "nbconvert_exporter": "python",
   "pygments_lexer": "ipython3",
   "version": "3.13.2"
  }
 },
 "nbformat": 4,
 "nbformat_minor": 5
}
